{
  "nbformat": 4,
  "nbformat_minor": 0,
  "metadata": {
    "colab": {
      "provenance": []
    },
    "kernelspec": {
      "name": "python3",
      "display_name": "Python 3"
    },
    "language_info": {
      "name": "python"
    }
  },
  "cells": [
    {
      "cell_type": "code",
      "execution_count": null,
      "metadata": {
        "colab": {
          "base_uri": "https://localhost:8080/"
        },
        "id": "JDCEeCR8vSaT",
        "outputId": "24dbeea1-f367-45e4-932c-804b634c5e83"
      },
      "outputs": [
        {
          "output_type": "stream",
          "name": "stdout",
          "text": [
            "Mounted at /content/drive\n"
          ]
        }
      ],
      "source": [
        "from google.colab import drive\n",
        "drive.mount('/content/drive')"
      ]
    },
    {
      "cell_type": "code",
      "source": [
        "import pandas as pd\n",
        "import numpy as np\n",
        "import matplotlib.pyplot as plt\n",
        "import seaborn as sns"
      ],
      "metadata": {
        "id": "sCmr7ElDwD03"
      },
      "execution_count": null,
      "outputs": []
    },
    {
      "cell_type": "code",
      "source": [
        "df=pd.read_csv('/content/drive/MyDrive/University Dataset/passes.csv')\n",
        "df.head()"
      ],
      "metadata": {
        "colab": {
          "base_uri": "https://localhost:8080/",
          "height": 206
        },
        "id": "fFp6otERwHR_",
        "outputId": "fee62d94-7035-43e0-c9d6-2ecdfd4bf902"
      },
      "execution_count": null,
      "outputs": [
        {
          "output_type": "execute_result",
          "data": {
            "text/plain": [
              "  game_id;passing_quote;winner\n",
              "0                     11;72;No\n",
              "1                    11;91;Yes\n",
              "2                    12;82;Yes\n",
              "3                     12;86;No\n",
              "4                    13;82;Yes"
            ],
            "text/html": [
              "\n",
              "  <div id=\"df-5a762a93-fd06-4c99-8620-a9006981e23b\" class=\"colab-df-container\">\n",
              "    <div>\n",
              "<style scoped>\n",
              "    .dataframe tbody tr th:only-of-type {\n",
              "        vertical-align: middle;\n",
              "    }\n",
              "\n",
              "    .dataframe tbody tr th {\n",
              "        vertical-align: top;\n",
              "    }\n",
              "\n",
              "    .dataframe thead th {\n",
              "        text-align: right;\n",
              "    }\n",
              "</style>\n",
              "<table border=\"1\" class=\"dataframe\">\n",
              "  <thead>\n",
              "    <tr style=\"text-align: right;\">\n",
              "      <th></th>\n",
              "      <th>game_id;passing_quote;winner</th>\n",
              "    </tr>\n",
              "  </thead>\n",
              "  <tbody>\n",
              "    <tr>\n",
              "      <th>0</th>\n",
              "      <td>11;72;No</td>\n",
              "    </tr>\n",
              "    <tr>\n",
              "      <th>1</th>\n",
              "      <td>11;91;Yes</td>\n",
              "    </tr>\n",
              "    <tr>\n",
              "      <th>2</th>\n",
              "      <td>12;82;Yes</td>\n",
              "    </tr>\n",
              "    <tr>\n",
              "      <th>3</th>\n",
              "      <td>12;86;No</td>\n",
              "    </tr>\n",
              "    <tr>\n",
              "      <th>4</th>\n",
              "      <td>13;82;Yes</td>\n",
              "    </tr>\n",
              "  </tbody>\n",
              "</table>\n",
              "</div>\n",
              "    <div class=\"colab-df-buttons\">\n",
              "\n",
              "  <div class=\"colab-df-container\">\n",
              "    <button class=\"colab-df-convert\" onclick=\"convertToInteractive('df-5a762a93-fd06-4c99-8620-a9006981e23b')\"\n",
              "            title=\"Convert this dataframe to an interactive table.\"\n",
              "            style=\"display:none;\">\n",
              "\n",
              "  <svg xmlns=\"http://www.w3.org/2000/svg\" height=\"24px\" viewBox=\"0 -960 960 960\">\n",
              "    <path d=\"M120-120v-720h720v720H120Zm60-500h600v-160H180v160Zm220 220h160v-160H400v160Zm0 220h160v-160H400v160ZM180-400h160v-160H180v160Zm440 0h160v-160H620v160ZM180-180h160v-160H180v160Zm440 0h160v-160H620v160Z\"/>\n",
              "  </svg>\n",
              "    </button>\n",
              "\n",
              "  <style>\n",
              "    .colab-df-container {\n",
              "      display:flex;\n",
              "      gap: 12px;\n",
              "    }\n",
              "\n",
              "    .colab-df-convert {\n",
              "      background-color: #E8F0FE;\n",
              "      border: none;\n",
              "      border-radius: 50%;\n",
              "      cursor: pointer;\n",
              "      display: none;\n",
              "      fill: #1967D2;\n",
              "      height: 32px;\n",
              "      padding: 0 0 0 0;\n",
              "      width: 32px;\n",
              "    }\n",
              "\n",
              "    .colab-df-convert:hover {\n",
              "      background-color: #E2EBFA;\n",
              "      box-shadow: 0px 1px 2px rgba(60, 64, 67, 0.3), 0px 1px 3px 1px rgba(60, 64, 67, 0.15);\n",
              "      fill: #174EA6;\n",
              "    }\n",
              "\n",
              "    .colab-df-buttons div {\n",
              "      margin-bottom: 4px;\n",
              "    }\n",
              "\n",
              "    [theme=dark] .colab-df-convert {\n",
              "      background-color: #3B4455;\n",
              "      fill: #D2E3FC;\n",
              "    }\n",
              "\n",
              "    [theme=dark] .colab-df-convert:hover {\n",
              "      background-color: #434B5C;\n",
              "      box-shadow: 0px 1px 3px 1px rgba(0, 0, 0, 0.15);\n",
              "      filter: drop-shadow(0px 1px 2px rgba(0, 0, 0, 0.3));\n",
              "      fill: #FFFFFF;\n",
              "    }\n",
              "  </style>\n",
              "\n",
              "    <script>\n",
              "      const buttonEl =\n",
              "        document.querySelector('#df-5a762a93-fd06-4c99-8620-a9006981e23b button.colab-df-convert');\n",
              "      buttonEl.style.display =\n",
              "        google.colab.kernel.accessAllowed ? 'block' : 'none';\n",
              "\n",
              "      async function convertToInteractive(key) {\n",
              "        const element = document.querySelector('#df-5a762a93-fd06-4c99-8620-a9006981e23b');\n",
              "        const dataTable =\n",
              "          await google.colab.kernel.invokeFunction('convertToInteractive',\n",
              "                                                    [key], {});\n",
              "        if (!dataTable) return;\n",
              "\n",
              "        const docLinkHtml = 'Like what you see? Visit the ' +\n",
              "          '<a target=\"_blank\" href=https://colab.research.google.com/notebooks/data_table.ipynb>data table notebook</a>'\n",
              "          + ' to learn more about interactive tables.';\n",
              "        element.innerHTML = '';\n",
              "        dataTable['output_type'] = 'display_data';\n",
              "        await google.colab.output.renderOutput(dataTable, element);\n",
              "        const docLink = document.createElement('div');\n",
              "        docLink.innerHTML = docLinkHtml;\n",
              "        element.appendChild(docLink);\n",
              "      }\n",
              "    </script>\n",
              "  </div>\n",
              "\n",
              "\n",
              "<div id=\"df-fdb75975-684b-418f-91d4-312afd770fb5\">\n",
              "  <button class=\"colab-df-quickchart\" onclick=\"quickchart('df-fdb75975-684b-418f-91d4-312afd770fb5')\"\n",
              "            title=\"Suggest charts\"\n",
              "            style=\"display:none;\">\n",
              "\n",
              "<svg xmlns=\"http://www.w3.org/2000/svg\" height=\"24px\"viewBox=\"0 0 24 24\"\n",
              "     width=\"24px\">\n",
              "    <g>\n",
              "        <path d=\"M19 3H5c-1.1 0-2 .9-2 2v14c0 1.1.9 2 2 2h14c1.1 0 2-.9 2-2V5c0-1.1-.9-2-2-2zM9 17H7v-7h2v7zm4 0h-2V7h2v10zm4 0h-2v-4h2v4z\"/>\n",
              "    </g>\n",
              "</svg>\n",
              "  </button>\n",
              "\n",
              "<style>\n",
              "  .colab-df-quickchart {\n",
              "      --bg-color: #E8F0FE;\n",
              "      --fill-color: #1967D2;\n",
              "      --hover-bg-color: #E2EBFA;\n",
              "      --hover-fill-color: #174EA6;\n",
              "      --disabled-fill-color: #AAA;\n",
              "      --disabled-bg-color: #DDD;\n",
              "  }\n",
              "\n",
              "  [theme=dark] .colab-df-quickchart {\n",
              "      --bg-color: #3B4455;\n",
              "      --fill-color: #D2E3FC;\n",
              "      --hover-bg-color: #434B5C;\n",
              "      --hover-fill-color: #FFFFFF;\n",
              "      --disabled-bg-color: #3B4455;\n",
              "      --disabled-fill-color: #666;\n",
              "  }\n",
              "\n",
              "  .colab-df-quickchart {\n",
              "    background-color: var(--bg-color);\n",
              "    border: none;\n",
              "    border-radius: 50%;\n",
              "    cursor: pointer;\n",
              "    display: none;\n",
              "    fill: var(--fill-color);\n",
              "    height: 32px;\n",
              "    padding: 0;\n",
              "    width: 32px;\n",
              "  }\n",
              "\n",
              "  .colab-df-quickchart:hover {\n",
              "    background-color: var(--hover-bg-color);\n",
              "    box-shadow: 0 1px 2px rgba(60, 64, 67, 0.3), 0 1px 3px 1px rgba(60, 64, 67, 0.15);\n",
              "    fill: var(--button-hover-fill-color);\n",
              "  }\n",
              "\n",
              "  .colab-df-quickchart-complete:disabled,\n",
              "  .colab-df-quickchart-complete:disabled:hover {\n",
              "    background-color: var(--disabled-bg-color);\n",
              "    fill: var(--disabled-fill-color);\n",
              "    box-shadow: none;\n",
              "  }\n",
              "\n",
              "  .colab-df-spinner {\n",
              "    border: 2px solid var(--fill-color);\n",
              "    border-color: transparent;\n",
              "    border-bottom-color: var(--fill-color);\n",
              "    animation:\n",
              "      spin 1s steps(1) infinite;\n",
              "  }\n",
              "\n",
              "  @keyframes spin {\n",
              "    0% {\n",
              "      border-color: transparent;\n",
              "      border-bottom-color: var(--fill-color);\n",
              "      border-left-color: var(--fill-color);\n",
              "    }\n",
              "    20% {\n",
              "      border-color: transparent;\n",
              "      border-left-color: var(--fill-color);\n",
              "      border-top-color: var(--fill-color);\n",
              "    }\n",
              "    30% {\n",
              "      border-color: transparent;\n",
              "      border-left-color: var(--fill-color);\n",
              "      border-top-color: var(--fill-color);\n",
              "      border-right-color: var(--fill-color);\n",
              "    }\n",
              "    40% {\n",
              "      border-color: transparent;\n",
              "      border-right-color: var(--fill-color);\n",
              "      border-top-color: var(--fill-color);\n",
              "    }\n",
              "    60% {\n",
              "      border-color: transparent;\n",
              "      border-right-color: var(--fill-color);\n",
              "    }\n",
              "    80% {\n",
              "      border-color: transparent;\n",
              "      border-right-color: var(--fill-color);\n",
              "      border-bottom-color: var(--fill-color);\n",
              "    }\n",
              "    90% {\n",
              "      border-color: transparent;\n",
              "      border-bottom-color: var(--fill-color);\n",
              "    }\n",
              "  }\n",
              "</style>\n",
              "\n",
              "  <script>\n",
              "    async function quickchart(key) {\n",
              "      const quickchartButtonEl =\n",
              "        document.querySelector('#' + key + ' button');\n",
              "      quickchartButtonEl.disabled = true;  // To prevent multiple clicks.\n",
              "      quickchartButtonEl.classList.add('colab-df-spinner');\n",
              "      try {\n",
              "        const charts = await google.colab.kernel.invokeFunction(\n",
              "            'suggestCharts', [key], {});\n",
              "      } catch (error) {\n",
              "        console.error('Error during call to suggestCharts:', error);\n",
              "      }\n",
              "      quickchartButtonEl.classList.remove('colab-df-spinner');\n",
              "      quickchartButtonEl.classList.add('colab-df-quickchart-complete');\n",
              "    }\n",
              "    (() => {\n",
              "      let quickchartButtonEl =\n",
              "        document.querySelector('#df-fdb75975-684b-418f-91d4-312afd770fb5 button');\n",
              "      quickchartButtonEl.style.display =\n",
              "        google.colab.kernel.accessAllowed ? 'block' : 'none';\n",
              "    })();\n",
              "  </script>\n",
              "</div>\n",
              "\n",
              "    </div>\n",
              "  </div>\n"
            ],
            "application/vnd.google.colaboratory.intrinsic+json": {
              "type": "dataframe",
              "variable_name": "df",
              "summary": "{\n  \"name\": \"df\",\n  \"rows\": 306,\n  \"fields\": [\n    {\n      \"column\": \"game_id;passing_quote;winner\",\n      \"properties\": {\n        \"dtype\": \"string\",\n        \"num_unique_values\": 304,\n        \"samples\": [\n          \"111;88;No\",\n          \"96;66;Yes\",\n          \"73;89;No\"\n        ],\n        \"semantic_type\": \"\",\n        \"description\": \"\"\n      }\n    }\n  ]\n}"
            }
          },
          "metadata": {},
          "execution_count": 4
        }
      ]
    },
    {
      "cell_type": "code",
      "source": [
        "# Assuming df is your DataFrame\n",
        "df[['game_id', 'passing_quote', 'winner']] = df['game_id;passing_quote;winner'].str.split(';', expand=True)\n",
        "\n",
        "# Drop the original column if needed\n",
        "df.drop('game_id;passing_quote;winner', axis=1, inplace=True)\n",
        "\n"
      ],
      "metadata": {
        "id": "B_yyuySdwfSB"
      },
      "execution_count": null,
      "outputs": []
    },
    {
      "cell_type": "code",
      "source": [
        "# Display the updated DataFrame\n",
        "df.sample(5)"
      ],
      "metadata": {
        "colab": {
          "base_uri": "https://localhost:8080/",
          "height": 206
        },
        "id": "3mv1rSdq34S6",
        "outputId": "8ccc44a5-9fe8-4c38-eefb-b36080e0a0bf"
      },
      "execution_count": null,
      "outputs": [
        {
          "output_type": "execute_result",
          "data": {
            "text/plain": [
              "    game_id passing_quote winner\n",
              "2        12            82    Yes\n",
              "109      71            74     No\n",
              "255     152            53    Yes\n",
              "162     101            69     No\n",
              "100      66            77    Yes"
            ],
            "text/html": [
              "\n",
              "  <div id=\"df-65dbf8fc-8792-44eb-92e0-0ddf857705d8\" class=\"colab-df-container\">\n",
              "    <div>\n",
              "<style scoped>\n",
              "    .dataframe tbody tr th:only-of-type {\n",
              "        vertical-align: middle;\n",
              "    }\n",
              "\n",
              "    .dataframe tbody tr th {\n",
              "        vertical-align: top;\n",
              "    }\n",
              "\n",
              "    .dataframe thead th {\n",
              "        text-align: right;\n",
              "    }\n",
              "</style>\n",
              "<table border=\"1\" class=\"dataframe\">\n",
              "  <thead>\n",
              "    <tr style=\"text-align: right;\">\n",
              "      <th></th>\n",
              "      <th>game_id</th>\n",
              "      <th>passing_quote</th>\n",
              "      <th>winner</th>\n",
              "    </tr>\n",
              "  </thead>\n",
              "  <tbody>\n",
              "    <tr>\n",
              "      <th>2</th>\n",
              "      <td>12</td>\n",
              "      <td>82</td>\n",
              "      <td>Yes</td>\n",
              "    </tr>\n",
              "    <tr>\n",
              "      <th>109</th>\n",
              "      <td>71</td>\n",
              "      <td>74</td>\n",
              "      <td>No</td>\n",
              "    </tr>\n",
              "    <tr>\n",
              "      <th>255</th>\n",
              "      <td>152</td>\n",
              "      <td>53</td>\n",
              "      <td>Yes</td>\n",
              "    </tr>\n",
              "    <tr>\n",
              "      <th>162</th>\n",
              "      <td>101</td>\n",
              "      <td>69</td>\n",
              "      <td>No</td>\n",
              "    </tr>\n",
              "    <tr>\n",
              "      <th>100</th>\n",
              "      <td>66</td>\n",
              "      <td>77</td>\n",
              "      <td>Yes</td>\n",
              "    </tr>\n",
              "  </tbody>\n",
              "</table>\n",
              "</div>\n",
              "    <div class=\"colab-df-buttons\">\n",
              "\n",
              "  <div class=\"colab-df-container\">\n",
              "    <button class=\"colab-df-convert\" onclick=\"convertToInteractive('df-65dbf8fc-8792-44eb-92e0-0ddf857705d8')\"\n",
              "            title=\"Convert this dataframe to an interactive table.\"\n",
              "            style=\"display:none;\">\n",
              "\n",
              "  <svg xmlns=\"http://www.w3.org/2000/svg\" height=\"24px\" viewBox=\"0 -960 960 960\">\n",
              "    <path d=\"M120-120v-720h720v720H120Zm60-500h600v-160H180v160Zm220 220h160v-160H400v160Zm0 220h160v-160H400v160ZM180-400h160v-160H180v160Zm440 0h160v-160H620v160ZM180-180h160v-160H180v160Zm440 0h160v-160H620v160Z\"/>\n",
              "  </svg>\n",
              "    </button>\n",
              "\n",
              "  <style>\n",
              "    .colab-df-container {\n",
              "      display:flex;\n",
              "      gap: 12px;\n",
              "    }\n",
              "\n",
              "    .colab-df-convert {\n",
              "      background-color: #E8F0FE;\n",
              "      border: none;\n",
              "      border-radius: 50%;\n",
              "      cursor: pointer;\n",
              "      display: none;\n",
              "      fill: #1967D2;\n",
              "      height: 32px;\n",
              "      padding: 0 0 0 0;\n",
              "      width: 32px;\n",
              "    }\n",
              "\n",
              "    .colab-df-convert:hover {\n",
              "      background-color: #E2EBFA;\n",
              "      box-shadow: 0px 1px 2px rgba(60, 64, 67, 0.3), 0px 1px 3px 1px rgba(60, 64, 67, 0.15);\n",
              "      fill: #174EA6;\n",
              "    }\n",
              "\n",
              "    .colab-df-buttons div {\n",
              "      margin-bottom: 4px;\n",
              "    }\n",
              "\n",
              "    [theme=dark] .colab-df-convert {\n",
              "      background-color: #3B4455;\n",
              "      fill: #D2E3FC;\n",
              "    }\n",
              "\n",
              "    [theme=dark] .colab-df-convert:hover {\n",
              "      background-color: #434B5C;\n",
              "      box-shadow: 0px 1px 3px 1px rgba(0, 0, 0, 0.15);\n",
              "      filter: drop-shadow(0px 1px 2px rgba(0, 0, 0, 0.3));\n",
              "      fill: #FFFFFF;\n",
              "    }\n",
              "  </style>\n",
              "\n",
              "    <script>\n",
              "      const buttonEl =\n",
              "        document.querySelector('#df-65dbf8fc-8792-44eb-92e0-0ddf857705d8 button.colab-df-convert');\n",
              "      buttonEl.style.display =\n",
              "        google.colab.kernel.accessAllowed ? 'block' : 'none';\n",
              "\n",
              "      async function convertToInteractive(key) {\n",
              "        const element = document.querySelector('#df-65dbf8fc-8792-44eb-92e0-0ddf857705d8');\n",
              "        const dataTable =\n",
              "          await google.colab.kernel.invokeFunction('convertToInteractive',\n",
              "                                                    [key], {});\n",
              "        if (!dataTable) return;\n",
              "\n",
              "        const docLinkHtml = 'Like what you see? Visit the ' +\n",
              "          '<a target=\"_blank\" href=https://colab.research.google.com/notebooks/data_table.ipynb>data table notebook</a>'\n",
              "          + ' to learn more about interactive tables.';\n",
              "        element.innerHTML = '';\n",
              "        dataTable['output_type'] = 'display_data';\n",
              "        await google.colab.output.renderOutput(dataTable, element);\n",
              "        const docLink = document.createElement('div');\n",
              "        docLink.innerHTML = docLinkHtml;\n",
              "        element.appendChild(docLink);\n",
              "      }\n",
              "    </script>\n",
              "  </div>\n",
              "\n",
              "\n",
              "<div id=\"df-c8b16f69-95bb-444c-af33-2726f9cfffb7\">\n",
              "  <button class=\"colab-df-quickchart\" onclick=\"quickchart('df-c8b16f69-95bb-444c-af33-2726f9cfffb7')\"\n",
              "            title=\"Suggest charts\"\n",
              "            style=\"display:none;\">\n",
              "\n",
              "<svg xmlns=\"http://www.w3.org/2000/svg\" height=\"24px\"viewBox=\"0 0 24 24\"\n",
              "     width=\"24px\">\n",
              "    <g>\n",
              "        <path d=\"M19 3H5c-1.1 0-2 .9-2 2v14c0 1.1.9 2 2 2h14c1.1 0 2-.9 2-2V5c0-1.1-.9-2-2-2zM9 17H7v-7h2v7zm4 0h-2V7h2v10zm4 0h-2v-4h2v4z\"/>\n",
              "    </g>\n",
              "</svg>\n",
              "  </button>\n",
              "\n",
              "<style>\n",
              "  .colab-df-quickchart {\n",
              "      --bg-color: #E8F0FE;\n",
              "      --fill-color: #1967D2;\n",
              "      --hover-bg-color: #E2EBFA;\n",
              "      --hover-fill-color: #174EA6;\n",
              "      --disabled-fill-color: #AAA;\n",
              "      --disabled-bg-color: #DDD;\n",
              "  }\n",
              "\n",
              "  [theme=dark] .colab-df-quickchart {\n",
              "      --bg-color: #3B4455;\n",
              "      --fill-color: #D2E3FC;\n",
              "      --hover-bg-color: #434B5C;\n",
              "      --hover-fill-color: #FFFFFF;\n",
              "      --disabled-bg-color: #3B4455;\n",
              "      --disabled-fill-color: #666;\n",
              "  }\n",
              "\n",
              "  .colab-df-quickchart {\n",
              "    background-color: var(--bg-color);\n",
              "    border: none;\n",
              "    border-radius: 50%;\n",
              "    cursor: pointer;\n",
              "    display: none;\n",
              "    fill: var(--fill-color);\n",
              "    height: 32px;\n",
              "    padding: 0;\n",
              "    width: 32px;\n",
              "  }\n",
              "\n",
              "  .colab-df-quickchart:hover {\n",
              "    background-color: var(--hover-bg-color);\n",
              "    box-shadow: 0 1px 2px rgba(60, 64, 67, 0.3), 0 1px 3px 1px rgba(60, 64, 67, 0.15);\n",
              "    fill: var(--button-hover-fill-color);\n",
              "  }\n",
              "\n",
              "  .colab-df-quickchart-complete:disabled,\n",
              "  .colab-df-quickchart-complete:disabled:hover {\n",
              "    background-color: var(--disabled-bg-color);\n",
              "    fill: var(--disabled-fill-color);\n",
              "    box-shadow: none;\n",
              "  }\n",
              "\n",
              "  .colab-df-spinner {\n",
              "    border: 2px solid var(--fill-color);\n",
              "    border-color: transparent;\n",
              "    border-bottom-color: var(--fill-color);\n",
              "    animation:\n",
              "      spin 1s steps(1) infinite;\n",
              "  }\n",
              "\n",
              "  @keyframes spin {\n",
              "    0% {\n",
              "      border-color: transparent;\n",
              "      border-bottom-color: var(--fill-color);\n",
              "      border-left-color: var(--fill-color);\n",
              "    }\n",
              "    20% {\n",
              "      border-color: transparent;\n",
              "      border-left-color: var(--fill-color);\n",
              "      border-top-color: var(--fill-color);\n",
              "    }\n",
              "    30% {\n",
              "      border-color: transparent;\n",
              "      border-left-color: var(--fill-color);\n",
              "      border-top-color: var(--fill-color);\n",
              "      border-right-color: var(--fill-color);\n",
              "    }\n",
              "    40% {\n",
              "      border-color: transparent;\n",
              "      border-right-color: var(--fill-color);\n",
              "      border-top-color: var(--fill-color);\n",
              "    }\n",
              "    60% {\n",
              "      border-color: transparent;\n",
              "      border-right-color: var(--fill-color);\n",
              "    }\n",
              "    80% {\n",
              "      border-color: transparent;\n",
              "      border-right-color: var(--fill-color);\n",
              "      border-bottom-color: var(--fill-color);\n",
              "    }\n",
              "    90% {\n",
              "      border-color: transparent;\n",
              "      border-bottom-color: var(--fill-color);\n",
              "    }\n",
              "  }\n",
              "</style>\n",
              "\n",
              "  <script>\n",
              "    async function quickchart(key) {\n",
              "      const quickchartButtonEl =\n",
              "        document.querySelector('#' + key + ' button');\n",
              "      quickchartButtonEl.disabled = true;  // To prevent multiple clicks.\n",
              "      quickchartButtonEl.classList.add('colab-df-spinner');\n",
              "      try {\n",
              "        const charts = await google.colab.kernel.invokeFunction(\n",
              "            'suggestCharts', [key], {});\n",
              "      } catch (error) {\n",
              "        console.error('Error during call to suggestCharts:', error);\n",
              "      }\n",
              "      quickchartButtonEl.classList.remove('colab-df-spinner');\n",
              "      quickchartButtonEl.classList.add('colab-df-quickchart-complete');\n",
              "    }\n",
              "    (() => {\n",
              "      let quickchartButtonEl =\n",
              "        document.querySelector('#df-c8b16f69-95bb-444c-af33-2726f9cfffb7 button');\n",
              "      quickchartButtonEl.style.display =\n",
              "        google.colab.kernel.accessAllowed ? 'block' : 'none';\n",
              "    })();\n",
              "  </script>\n",
              "</div>\n",
              "\n",
              "    </div>\n",
              "  </div>\n"
            ],
            "application/vnd.google.colaboratory.intrinsic+json": {
              "type": "dataframe",
              "summary": "{\n  \"name\": \"df\",\n  \"rows\": 5,\n  \"fields\": [\n    {\n      \"column\": \"game_id\",\n      \"properties\": {\n        \"dtype\": \"string\",\n        \"num_unique_values\": 5,\n        \"samples\": [\n          \"71\",\n          \"66\",\n          \"152\"\n        ],\n        \"semantic_type\": \"\",\n        \"description\": \"\"\n      }\n    },\n    {\n      \"column\": \"passing_quote\",\n      \"properties\": {\n        \"dtype\": \"string\",\n        \"num_unique_values\": 5,\n        \"samples\": [\n          \"74\",\n          \"77\",\n          \"53\"\n        ],\n        \"semantic_type\": \"\",\n        \"description\": \"\"\n      }\n    },\n    {\n      \"column\": \"winner\",\n      \"properties\": {\n        \"dtype\": \"category\",\n        \"num_unique_values\": 2,\n        \"samples\": [\n          \"No\",\n          \"Yes\"\n        ],\n        \"semantic_type\": \"\",\n        \"description\": \"\"\n      }\n    }\n  ]\n}"
            }
          },
          "metadata": {},
          "execution_count": 6
        }
      ]
    },
    {
      "cell_type": "code",
      "source": [
        "df.shape"
      ],
      "metadata": {
        "colab": {
          "base_uri": "https://localhost:8080/"
        },
        "id": "nK-WHL1M1xZ_",
        "outputId": "622851c4-8cc7-4095-9ef0-fc73a3a8cc92"
      },
      "execution_count": null,
      "outputs": [
        {
          "output_type": "execute_result",
          "data": {
            "text/plain": [
              "(306, 3)"
            ]
          },
          "metadata": {},
          "execution_count": 7
        }
      ]
    },
    {
      "cell_type": "code",
      "source": [
        "df.info()"
      ],
      "metadata": {
        "colab": {
          "base_uri": "https://localhost:8080/"
        },
        "id": "Ij9_fsVx3uAT",
        "outputId": "799cbe1a-ffed-4560-93a1-a0a7c7b40965"
      },
      "execution_count": null,
      "outputs": [
        {
          "output_type": "stream",
          "name": "stdout",
          "text": [
            "<class 'pandas.core.frame.DataFrame'>\n",
            "RangeIndex: 306 entries, 0 to 305\n",
            "Data columns (total 3 columns):\n",
            " #   Column         Non-Null Count  Dtype \n",
            "---  ------         --------------  ----- \n",
            " 0   game_id        306 non-null    object\n",
            " 1   passing_quote  306 non-null    object\n",
            " 2   winner         306 non-null    object\n",
            "dtypes: object(3)\n",
            "memory usage: 7.3+ KB\n"
          ]
        }
      ]
    },
    {
      "cell_type": "code",
      "source": [
        "df.loc[[232, 233,], ['game_id', 'passing_quote', 'winner']]"
      ],
      "metadata": {
        "colab": {
          "base_uri": "https://localhost:8080/",
          "height": 112
        },
        "id": "sCXy4OOW6NpD",
        "outputId": "001320ea-d4e4-4e77-ca6e-4bbf0ec0a784"
      },
      "execution_count": null,
      "outputs": [
        {
          "output_type": "execute_result",
          "data": {
            "text/plain": [
              "    game_id passing_quote winner\n",
              "232     139            NA     NA\n",
              "233     139            NA     NA"
            ],
            "text/html": [
              "\n",
              "  <div id=\"df-ed171dc4-4210-4df5-8e87-d5f92acf4db1\" class=\"colab-df-container\">\n",
              "    <div>\n",
              "<style scoped>\n",
              "    .dataframe tbody tr th:only-of-type {\n",
              "        vertical-align: middle;\n",
              "    }\n",
              "\n",
              "    .dataframe tbody tr th {\n",
              "        vertical-align: top;\n",
              "    }\n",
              "\n",
              "    .dataframe thead th {\n",
              "        text-align: right;\n",
              "    }\n",
              "</style>\n",
              "<table border=\"1\" class=\"dataframe\">\n",
              "  <thead>\n",
              "    <tr style=\"text-align: right;\">\n",
              "      <th></th>\n",
              "      <th>game_id</th>\n",
              "      <th>passing_quote</th>\n",
              "      <th>winner</th>\n",
              "    </tr>\n",
              "  </thead>\n",
              "  <tbody>\n",
              "    <tr>\n",
              "      <th>232</th>\n",
              "      <td>139</td>\n",
              "      <td>NA</td>\n",
              "      <td>NA</td>\n",
              "    </tr>\n",
              "    <tr>\n",
              "      <th>233</th>\n",
              "      <td>139</td>\n",
              "      <td>NA</td>\n",
              "      <td>NA</td>\n",
              "    </tr>\n",
              "  </tbody>\n",
              "</table>\n",
              "</div>\n",
              "    <div class=\"colab-df-buttons\">\n",
              "\n",
              "  <div class=\"colab-df-container\">\n",
              "    <button class=\"colab-df-convert\" onclick=\"convertToInteractive('df-ed171dc4-4210-4df5-8e87-d5f92acf4db1')\"\n",
              "            title=\"Convert this dataframe to an interactive table.\"\n",
              "            style=\"display:none;\">\n",
              "\n",
              "  <svg xmlns=\"http://www.w3.org/2000/svg\" height=\"24px\" viewBox=\"0 -960 960 960\">\n",
              "    <path d=\"M120-120v-720h720v720H120Zm60-500h600v-160H180v160Zm220 220h160v-160H400v160Zm0 220h160v-160H400v160ZM180-400h160v-160H180v160Zm440 0h160v-160H620v160ZM180-180h160v-160H180v160Zm440 0h160v-160H620v160Z\"/>\n",
              "  </svg>\n",
              "    </button>\n",
              "\n",
              "  <style>\n",
              "    .colab-df-container {\n",
              "      display:flex;\n",
              "      gap: 12px;\n",
              "    }\n",
              "\n",
              "    .colab-df-convert {\n",
              "      background-color: #E8F0FE;\n",
              "      border: none;\n",
              "      border-radius: 50%;\n",
              "      cursor: pointer;\n",
              "      display: none;\n",
              "      fill: #1967D2;\n",
              "      height: 32px;\n",
              "      padding: 0 0 0 0;\n",
              "      width: 32px;\n",
              "    }\n",
              "\n",
              "    .colab-df-convert:hover {\n",
              "      background-color: #E2EBFA;\n",
              "      box-shadow: 0px 1px 2px rgba(60, 64, 67, 0.3), 0px 1px 3px 1px rgba(60, 64, 67, 0.15);\n",
              "      fill: #174EA6;\n",
              "    }\n",
              "\n",
              "    .colab-df-buttons div {\n",
              "      margin-bottom: 4px;\n",
              "    }\n",
              "\n",
              "    [theme=dark] .colab-df-convert {\n",
              "      background-color: #3B4455;\n",
              "      fill: #D2E3FC;\n",
              "    }\n",
              "\n",
              "    [theme=dark] .colab-df-convert:hover {\n",
              "      background-color: #434B5C;\n",
              "      box-shadow: 0px 1px 3px 1px rgba(0, 0, 0, 0.15);\n",
              "      filter: drop-shadow(0px 1px 2px rgba(0, 0, 0, 0.3));\n",
              "      fill: #FFFFFF;\n",
              "    }\n",
              "  </style>\n",
              "\n",
              "    <script>\n",
              "      const buttonEl =\n",
              "        document.querySelector('#df-ed171dc4-4210-4df5-8e87-d5f92acf4db1 button.colab-df-convert');\n",
              "      buttonEl.style.display =\n",
              "        google.colab.kernel.accessAllowed ? 'block' : 'none';\n",
              "\n",
              "      async function convertToInteractive(key) {\n",
              "        const element = document.querySelector('#df-ed171dc4-4210-4df5-8e87-d5f92acf4db1');\n",
              "        const dataTable =\n",
              "          await google.colab.kernel.invokeFunction('convertToInteractive',\n",
              "                                                    [key], {});\n",
              "        if (!dataTable) return;\n",
              "\n",
              "        const docLinkHtml = 'Like what you see? Visit the ' +\n",
              "          '<a target=\"_blank\" href=https://colab.research.google.com/notebooks/data_table.ipynb>data table notebook</a>'\n",
              "          + ' to learn more about interactive tables.';\n",
              "        element.innerHTML = '';\n",
              "        dataTable['output_type'] = 'display_data';\n",
              "        await google.colab.output.renderOutput(dataTable, element);\n",
              "        const docLink = document.createElement('div');\n",
              "        docLink.innerHTML = docLinkHtml;\n",
              "        element.appendChild(docLink);\n",
              "      }\n",
              "    </script>\n",
              "  </div>\n",
              "\n",
              "\n",
              "<div id=\"df-cbbbe783-3795-4767-b5c7-2ee5ac04506c\">\n",
              "  <button class=\"colab-df-quickchart\" onclick=\"quickchart('df-cbbbe783-3795-4767-b5c7-2ee5ac04506c')\"\n",
              "            title=\"Suggest charts\"\n",
              "            style=\"display:none;\">\n",
              "\n",
              "<svg xmlns=\"http://www.w3.org/2000/svg\" height=\"24px\"viewBox=\"0 0 24 24\"\n",
              "     width=\"24px\">\n",
              "    <g>\n",
              "        <path d=\"M19 3H5c-1.1 0-2 .9-2 2v14c0 1.1.9 2 2 2h14c1.1 0 2-.9 2-2V5c0-1.1-.9-2-2-2zM9 17H7v-7h2v7zm4 0h-2V7h2v10zm4 0h-2v-4h2v4z\"/>\n",
              "    </g>\n",
              "</svg>\n",
              "  </button>\n",
              "\n",
              "<style>\n",
              "  .colab-df-quickchart {\n",
              "      --bg-color: #E8F0FE;\n",
              "      --fill-color: #1967D2;\n",
              "      --hover-bg-color: #E2EBFA;\n",
              "      --hover-fill-color: #174EA6;\n",
              "      --disabled-fill-color: #AAA;\n",
              "      --disabled-bg-color: #DDD;\n",
              "  }\n",
              "\n",
              "  [theme=dark] .colab-df-quickchart {\n",
              "      --bg-color: #3B4455;\n",
              "      --fill-color: #D2E3FC;\n",
              "      --hover-bg-color: #434B5C;\n",
              "      --hover-fill-color: #FFFFFF;\n",
              "      --disabled-bg-color: #3B4455;\n",
              "      --disabled-fill-color: #666;\n",
              "  }\n",
              "\n",
              "  .colab-df-quickchart {\n",
              "    background-color: var(--bg-color);\n",
              "    border: none;\n",
              "    border-radius: 50%;\n",
              "    cursor: pointer;\n",
              "    display: none;\n",
              "    fill: var(--fill-color);\n",
              "    height: 32px;\n",
              "    padding: 0;\n",
              "    width: 32px;\n",
              "  }\n",
              "\n",
              "  .colab-df-quickchart:hover {\n",
              "    background-color: var(--hover-bg-color);\n",
              "    box-shadow: 0 1px 2px rgba(60, 64, 67, 0.3), 0 1px 3px 1px rgba(60, 64, 67, 0.15);\n",
              "    fill: var(--button-hover-fill-color);\n",
              "  }\n",
              "\n",
              "  .colab-df-quickchart-complete:disabled,\n",
              "  .colab-df-quickchart-complete:disabled:hover {\n",
              "    background-color: var(--disabled-bg-color);\n",
              "    fill: var(--disabled-fill-color);\n",
              "    box-shadow: none;\n",
              "  }\n",
              "\n",
              "  .colab-df-spinner {\n",
              "    border: 2px solid var(--fill-color);\n",
              "    border-color: transparent;\n",
              "    border-bottom-color: var(--fill-color);\n",
              "    animation:\n",
              "      spin 1s steps(1) infinite;\n",
              "  }\n",
              "\n",
              "  @keyframes spin {\n",
              "    0% {\n",
              "      border-color: transparent;\n",
              "      border-bottom-color: var(--fill-color);\n",
              "      border-left-color: var(--fill-color);\n",
              "    }\n",
              "    20% {\n",
              "      border-color: transparent;\n",
              "      border-left-color: var(--fill-color);\n",
              "      border-top-color: var(--fill-color);\n",
              "    }\n",
              "    30% {\n",
              "      border-color: transparent;\n",
              "      border-left-color: var(--fill-color);\n",
              "      border-top-color: var(--fill-color);\n",
              "      border-right-color: var(--fill-color);\n",
              "    }\n",
              "    40% {\n",
              "      border-color: transparent;\n",
              "      border-right-color: var(--fill-color);\n",
              "      border-top-color: var(--fill-color);\n",
              "    }\n",
              "    60% {\n",
              "      border-color: transparent;\n",
              "      border-right-color: var(--fill-color);\n",
              "    }\n",
              "    80% {\n",
              "      border-color: transparent;\n",
              "      border-right-color: var(--fill-color);\n",
              "      border-bottom-color: var(--fill-color);\n",
              "    }\n",
              "    90% {\n",
              "      border-color: transparent;\n",
              "      border-bottom-color: var(--fill-color);\n",
              "    }\n",
              "  }\n",
              "</style>\n",
              "\n",
              "  <script>\n",
              "    async function quickchart(key) {\n",
              "      const quickchartButtonEl =\n",
              "        document.querySelector('#' + key + ' button');\n",
              "      quickchartButtonEl.disabled = true;  // To prevent multiple clicks.\n",
              "      quickchartButtonEl.classList.add('colab-df-spinner');\n",
              "      try {\n",
              "        const charts = await google.colab.kernel.invokeFunction(\n",
              "            'suggestCharts', [key], {});\n",
              "      } catch (error) {\n",
              "        console.error('Error during call to suggestCharts:', error);\n",
              "      }\n",
              "      quickchartButtonEl.classList.remove('colab-df-spinner');\n",
              "      quickchartButtonEl.classList.add('colab-df-quickchart-complete');\n",
              "    }\n",
              "    (() => {\n",
              "      let quickchartButtonEl =\n",
              "        document.querySelector('#df-cbbbe783-3795-4767-b5c7-2ee5ac04506c button');\n",
              "      quickchartButtonEl.style.display =\n",
              "        google.colab.kernel.accessAllowed ? 'block' : 'none';\n",
              "    })();\n",
              "  </script>\n",
              "</div>\n",
              "\n",
              "    </div>\n",
              "  </div>\n"
            ],
            "application/vnd.google.colaboratory.intrinsic+json": {
              "type": "dataframe",
              "summary": "{\n  \"name\": \"df\",\n  \"rows\": 2,\n  \"fields\": [\n    {\n      \"column\": \"game_id\",\n      \"properties\": {\n        \"dtype\": \"string\",\n        \"num_unique_values\": 1,\n        \"samples\": [\n          \"139\"\n        ],\n        \"semantic_type\": \"\",\n        \"description\": \"\"\n      }\n    },\n    {\n      \"column\": \"passing_quote\",\n      \"properties\": {\n        \"dtype\": \"string\",\n        \"num_unique_values\": 1,\n        \"samples\": [\n          \"NA\"\n        ],\n        \"semantic_type\": \"\",\n        \"description\": \"\"\n      }\n    },\n    {\n      \"column\": \"winner\",\n      \"properties\": {\n        \"dtype\": \"string\",\n        \"num_unique_values\": 1,\n        \"samples\": [\n          \"NA\"\n        ],\n        \"semantic_type\": \"\",\n        \"description\": \"\"\n      }\n    }\n  ]\n}"
            }
          },
          "metadata": {},
          "execution_count": 9
        }
      ]
    },
    {
      "cell_type": "code",
      "source": [
        "df.replace('NA', np.nan, inplace=True)\n",
        "\n",
        "# Display the updated DataFrame\n",
        "df.head()\n"
      ],
      "metadata": {
        "colab": {
          "base_uri": "https://localhost:8080/",
          "height": 206
        },
        "id": "ThcTCjHk4iWF",
        "outputId": "9b4278ec-bfc0-418f-fe79-00a82dc3573a"
      },
      "execution_count": null,
      "outputs": [
        {
          "output_type": "execute_result",
          "data": {
            "text/plain": [
              "  game_id passing_quote winner\n",
              "0      11            72     No\n",
              "1      11            91    Yes\n",
              "2      12            82    Yes\n",
              "3      12            86     No\n",
              "4      13            82    Yes"
            ],
            "text/html": [
              "\n",
              "  <div id=\"df-37832d63-0b3f-4182-9b5c-1796e6edee10\" class=\"colab-df-container\">\n",
              "    <div>\n",
              "<style scoped>\n",
              "    .dataframe tbody tr th:only-of-type {\n",
              "        vertical-align: middle;\n",
              "    }\n",
              "\n",
              "    .dataframe tbody tr th {\n",
              "        vertical-align: top;\n",
              "    }\n",
              "\n",
              "    .dataframe thead th {\n",
              "        text-align: right;\n",
              "    }\n",
              "</style>\n",
              "<table border=\"1\" class=\"dataframe\">\n",
              "  <thead>\n",
              "    <tr style=\"text-align: right;\">\n",
              "      <th></th>\n",
              "      <th>game_id</th>\n",
              "      <th>passing_quote</th>\n",
              "      <th>winner</th>\n",
              "    </tr>\n",
              "  </thead>\n",
              "  <tbody>\n",
              "    <tr>\n",
              "      <th>0</th>\n",
              "      <td>11</td>\n",
              "      <td>72</td>\n",
              "      <td>No</td>\n",
              "    </tr>\n",
              "    <tr>\n",
              "      <th>1</th>\n",
              "      <td>11</td>\n",
              "      <td>91</td>\n",
              "      <td>Yes</td>\n",
              "    </tr>\n",
              "    <tr>\n",
              "      <th>2</th>\n",
              "      <td>12</td>\n",
              "      <td>82</td>\n",
              "      <td>Yes</td>\n",
              "    </tr>\n",
              "    <tr>\n",
              "      <th>3</th>\n",
              "      <td>12</td>\n",
              "      <td>86</td>\n",
              "      <td>No</td>\n",
              "    </tr>\n",
              "    <tr>\n",
              "      <th>4</th>\n",
              "      <td>13</td>\n",
              "      <td>82</td>\n",
              "      <td>Yes</td>\n",
              "    </tr>\n",
              "  </tbody>\n",
              "</table>\n",
              "</div>\n",
              "    <div class=\"colab-df-buttons\">\n",
              "\n",
              "  <div class=\"colab-df-container\">\n",
              "    <button class=\"colab-df-convert\" onclick=\"convertToInteractive('df-37832d63-0b3f-4182-9b5c-1796e6edee10')\"\n",
              "            title=\"Convert this dataframe to an interactive table.\"\n",
              "            style=\"display:none;\">\n",
              "\n",
              "  <svg xmlns=\"http://www.w3.org/2000/svg\" height=\"24px\" viewBox=\"0 -960 960 960\">\n",
              "    <path d=\"M120-120v-720h720v720H120Zm60-500h600v-160H180v160Zm220 220h160v-160H400v160Zm0 220h160v-160H400v160ZM180-400h160v-160H180v160Zm440 0h160v-160H620v160ZM180-180h160v-160H180v160Zm440 0h160v-160H620v160Z\"/>\n",
              "  </svg>\n",
              "    </button>\n",
              "\n",
              "  <style>\n",
              "    .colab-df-container {\n",
              "      display:flex;\n",
              "      gap: 12px;\n",
              "    }\n",
              "\n",
              "    .colab-df-convert {\n",
              "      background-color: #E8F0FE;\n",
              "      border: none;\n",
              "      border-radius: 50%;\n",
              "      cursor: pointer;\n",
              "      display: none;\n",
              "      fill: #1967D2;\n",
              "      height: 32px;\n",
              "      padding: 0 0 0 0;\n",
              "      width: 32px;\n",
              "    }\n",
              "\n",
              "    .colab-df-convert:hover {\n",
              "      background-color: #E2EBFA;\n",
              "      box-shadow: 0px 1px 2px rgba(60, 64, 67, 0.3), 0px 1px 3px 1px rgba(60, 64, 67, 0.15);\n",
              "      fill: #174EA6;\n",
              "    }\n",
              "\n",
              "    .colab-df-buttons div {\n",
              "      margin-bottom: 4px;\n",
              "    }\n",
              "\n",
              "    [theme=dark] .colab-df-convert {\n",
              "      background-color: #3B4455;\n",
              "      fill: #D2E3FC;\n",
              "    }\n",
              "\n",
              "    [theme=dark] .colab-df-convert:hover {\n",
              "      background-color: #434B5C;\n",
              "      box-shadow: 0px 1px 3px 1px rgba(0, 0, 0, 0.15);\n",
              "      filter: drop-shadow(0px 1px 2px rgba(0, 0, 0, 0.3));\n",
              "      fill: #FFFFFF;\n",
              "    }\n",
              "  </style>\n",
              "\n",
              "    <script>\n",
              "      const buttonEl =\n",
              "        document.querySelector('#df-37832d63-0b3f-4182-9b5c-1796e6edee10 button.colab-df-convert');\n",
              "      buttonEl.style.display =\n",
              "        google.colab.kernel.accessAllowed ? 'block' : 'none';\n",
              "\n",
              "      async function convertToInteractive(key) {\n",
              "        const element = document.querySelector('#df-37832d63-0b3f-4182-9b5c-1796e6edee10');\n",
              "        const dataTable =\n",
              "          await google.colab.kernel.invokeFunction('convertToInteractive',\n",
              "                                                    [key], {});\n",
              "        if (!dataTable) return;\n",
              "\n",
              "        const docLinkHtml = 'Like what you see? Visit the ' +\n",
              "          '<a target=\"_blank\" href=https://colab.research.google.com/notebooks/data_table.ipynb>data table notebook</a>'\n",
              "          + ' to learn more about interactive tables.';\n",
              "        element.innerHTML = '';\n",
              "        dataTable['output_type'] = 'display_data';\n",
              "        await google.colab.output.renderOutput(dataTable, element);\n",
              "        const docLink = document.createElement('div');\n",
              "        docLink.innerHTML = docLinkHtml;\n",
              "        element.appendChild(docLink);\n",
              "      }\n",
              "    </script>\n",
              "  </div>\n",
              "\n",
              "\n",
              "<div id=\"df-ddfed5d8-a835-474e-ba8f-bb8ececc25c3\">\n",
              "  <button class=\"colab-df-quickchart\" onclick=\"quickchart('df-ddfed5d8-a835-474e-ba8f-bb8ececc25c3')\"\n",
              "            title=\"Suggest charts\"\n",
              "            style=\"display:none;\">\n",
              "\n",
              "<svg xmlns=\"http://www.w3.org/2000/svg\" height=\"24px\"viewBox=\"0 0 24 24\"\n",
              "     width=\"24px\">\n",
              "    <g>\n",
              "        <path d=\"M19 3H5c-1.1 0-2 .9-2 2v14c0 1.1.9 2 2 2h14c1.1 0 2-.9 2-2V5c0-1.1-.9-2-2-2zM9 17H7v-7h2v7zm4 0h-2V7h2v10zm4 0h-2v-4h2v4z\"/>\n",
              "    </g>\n",
              "</svg>\n",
              "  </button>\n",
              "\n",
              "<style>\n",
              "  .colab-df-quickchart {\n",
              "      --bg-color: #E8F0FE;\n",
              "      --fill-color: #1967D2;\n",
              "      --hover-bg-color: #E2EBFA;\n",
              "      --hover-fill-color: #174EA6;\n",
              "      --disabled-fill-color: #AAA;\n",
              "      --disabled-bg-color: #DDD;\n",
              "  }\n",
              "\n",
              "  [theme=dark] .colab-df-quickchart {\n",
              "      --bg-color: #3B4455;\n",
              "      --fill-color: #D2E3FC;\n",
              "      --hover-bg-color: #434B5C;\n",
              "      --hover-fill-color: #FFFFFF;\n",
              "      --disabled-bg-color: #3B4455;\n",
              "      --disabled-fill-color: #666;\n",
              "  }\n",
              "\n",
              "  .colab-df-quickchart {\n",
              "    background-color: var(--bg-color);\n",
              "    border: none;\n",
              "    border-radius: 50%;\n",
              "    cursor: pointer;\n",
              "    display: none;\n",
              "    fill: var(--fill-color);\n",
              "    height: 32px;\n",
              "    padding: 0;\n",
              "    width: 32px;\n",
              "  }\n",
              "\n",
              "  .colab-df-quickchart:hover {\n",
              "    background-color: var(--hover-bg-color);\n",
              "    box-shadow: 0 1px 2px rgba(60, 64, 67, 0.3), 0 1px 3px 1px rgba(60, 64, 67, 0.15);\n",
              "    fill: var(--button-hover-fill-color);\n",
              "  }\n",
              "\n",
              "  .colab-df-quickchart-complete:disabled,\n",
              "  .colab-df-quickchart-complete:disabled:hover {\n",
              "    background-color: var(--disabled-bg-color);\n",
              "    fill: var(--disabled-fill-color);\n",
              "    box-shadow: none;\n",
              "  }\n",
              "\n",
              "  .colab-df-spinner {\n",
              "    border: 2px solid var(--fill-color);\n",
              "    border-color: transparent;\n",
              "    border-bottom-color: var(--fill-color);\n",
              "    animation:\n",
              "      spin 1s steps(1) infinite;\n",
              "  }\n",
              "\n",
              "  @keyframes spin {\n",
              "    0% {\n",
              "      border-color: transparent;\n",
              "      border-bottom-color: var(--fill-color);\n",
              "      border-left-color: var(--fill-color);\n",
              "    }\n",
              "    20% {\n",
              "      border-color: transparent;\n",
              "      border-left-color: var(--fill-color);\n",
              "      border-top-color: var(--fill-color);\n",
              "    }\n",
              "    30% {\n",
              "      border-color: transparent;\n",
              "      border-left-color: var(--fill-color);\n",
              "      border-top-color: var(--fill-color);\n",
              "      border-right-color: var(--fill-color);\n",
              "    }\n",
              "    40% {\n",
              "      border-color: transparent;\n",
              "      border-right-color: var(--fill-color);\n",
              "      border-top-color: var(--fill-color);\n",
              "    }\n",
              "    60% {\n",
              "      border-color: transparent;\n",
              "      border-right-color: var(--fill-color);\n",
              "    }\n",
              "    80% {\n",
              "      border-color: transparent;\n",
              "      border-right-color: var(--fill-color);\n",
              "      border-bottom-color: var(--fill-color);\n",
              "    }\n",
              "    90% {\n",
              "      border-color: transparent;\n",
              "      border-bottom-color: var(--fill-color);\n",
              "    }\n",
              "  }\n",
              "</style>\n",
              "\n",
              "  <script>\n",
              "    async function quickchart(key) {\n",
              "      const quickchartButtonEl =\n",
              "        document.querySelector('#' + key + ' button');\n",
              "      quickchartButtonEl.disabled = true;  // To prevent multiple clicks.\n",
              "      quickchartButtonEl.classList.add('colab-df-spinner');\n",
              "      try {\n",
              "        const charts = await google.colab.kernel.invokeFunction(\n",
              "            'suggestCharts', [key], {});\n",
              "      } catch (error) {\n",
              "        console.error('Error during call to suggestCharts:', error);\n",
              "      }\n",
              "      quickchartButtonEl.classList.remove('colab-df-spinner');\n",
              "      quickchartButtonEl.classList.add('colab-df-quickchart-complete');\n",
              "    }\n",
              "    (() => {\n",
              "      let quickchartButtonEl =\n",
              "        document.querySelector('#df-ddfed5d8-a835-474e-ba8f-bb8ececc25c3 button');\n",
              "      quickchartButtonEl.style.display =\n",
              "        google.colab.kernel.accessAllowed ? 'block' : 'none';\n",
              "    })();\n",
              "  </script>\n",
              "</div>\n",
              "\n",
              "    </div>\n",
              "  </div>\n"
            ],
            "application/vnd.google.colaboratory.intrinsic+json": {
              "type": "dataframe",
              "variable_name": "df",
              "summary": "{\n  \"name\": \"df\",\n  \"rows\": 306,\n  \"fields\": [\n    {\n      \"column\": \"game_id\",\n      \"properties\": {\n        \"dtype\": \"string\",\n        \"num_unique_values\": 153,\n        \"samples\": [\n          \"104\",\n          \"106\",\n          \"118\"\n        ],\n        \"semantic_type\": \"\",\n        \"description\": \"\"\n      }\n    },\n    {\n      \"column\": \"passing_quote\",\n      \"properties\": {\n        \"dtype\": \"category\",\n        \"num_unique_values\": 36,\n        \"samples\": [\n          \"53\",\n          \"73\",\n          \"60\"\n        ],\n        \"semantic_type\": \"\",\n        \"description\": \"\"\n      }\n    },\n    {\n      \"column\": \"winner\",\n      \"properties\": {\n        \"dtype\": \"category\",\n        \"num_unique_values\": 2,\n        \"samples\": [\n          \"Yes\",\n          \"No\"\n        ],\n        \"semantic_type\": \"\",\n        \"description\": \"\"\n      }\n    }\n  ]\n}"
            }
          },
          "metadata": {},
          "execution_count": 10
        }
      ]
    },
    {
      "cell_type": "code",
      "source": [
        "df.isnull().sum()"
      ],
      "metadata": {
        "colab": {
          "base_uri": "https://localhost:8080/"
        },
        "id": "86j5ijxN9nuh",
        "outputId": "0e275b8d-9757-4699-d65b-28c82077f5e0"
      },
      "execution_count": null,
      "outputs": [
        {
          "output_type": "execute_result",
          "data": {
            "text/plain": [
              "game_id          0\n",
              "passing_quote    2\n",
              "winner           2\n",
              "dtype: int64"
            ]
          },
          "metadata": {},
          "execution_count": 11
        }
      ]
    },
    {
      "cell_type": "code",
      "source": [
        "df=df.dropna()"
      ],
      "metadata": {
        "id": "BU0rhPrB-Go7"
      },
      "execution_count": null,
      "outputs": []
    },
    {
      "cell_type": "code",
      "source": [
        "df['passing_quote'] = df['passing_quote'].astype(int)\n",
        "df['game_id']=df['game_id'].astype(int)"
      ],
      "metadata": {
        "id": "7SXDtJzTCPDl",
        "colab": {
          "base_uri": "https://localhost:8080/"
        },
        "outputId": "a64cdcbf-5415-4735-bc61-cfda73c57974"
      },
      "execution_count": null,
      "outputs": [
        {
          "output_type": "stream",
          "name": "stderr",
          "text": [
            "<ipython-input-13-5f1acbb98c14>:1: SettingWithCopyWarning: \n",
            "A value is trying to be set on a copy of a slice from a DataFrame.\n",
            "Try using .loc[row_indexer,col_indexer] = value instead\n",
            "\n",
            "See the caveats in the documentation: https://pandas.pydata.org/pandas-docs/stable/user_guide/indexing.html#returning-a-view-versus-a-copy\n",
            "  df['passing_quote'] = df['passing_quote'].astype(int)\n",
            "<ipython-input-13-5f1acbb98c14>:2: SettingWithCopyWarning: \n",
            "A value is trying to be set on a copy of a slice from a DataFrame.\n",
            "Try using .loc[row_indexer,col_indexer] = value instead\n",
            "\n",
            "See the caveats in the documentation: https://pandas.pydata.org/pandas-docs/stable/user_guide/indexing.html#returning-a-view-versus-a-copy\n",
            "  df['game_id']=df['game_id'].astype(int)\n"
          ]
        }
      ]
    },
    {
      "cell_type": "code",
      "source": [
        "df.info()"
      ],
      "metadata": {
        "colab": {
          "base_uri": "https://localhost:8080/"
        },
        "id": "yrcFEuYJCry4",
        "outputId": "8c5cebc8-5f2c-4a10-e44f-7e09a7db668a"
      },
      "execution_count": null,
      "outputs": [
        {
          "output_type": "stream",
          "name": "stdout",
          "text": [
            "<class 'pandas.core.frame.DataFrame'>\n",
            "Index: 304 entries, 0 to 305\n",
            "Data columns (total 3 columns):\n",
            " #   Column         Non-Null Count  Dtype \n",
            "---  ------         --------------  ----- \n",
            " 0   game_id        304 non-null    int64 \n",
            " 1   passing_quote  304 non-null    int64 \n",
            " 2   winner         304 non-null    object\n",
            "dtypes: int64(2), object(1)\n",
            "memory usage: 9.5+ KB\n"
          ]
        }
      ]
    },
    {
      "cell_type": "code",
      "source": [
        "df.shape"
      ],
      "metadata": {
        "id": "IVQi5z02QAE0",
        "outputId": "a48703fd-d192-4760-99cf-2ce6b3f9c24e",
        "colab": {
          "base_uri": "https://localhost:8080/"
        }
      },
      "execution_count": null,
      "outputs": [
        {
          "output_type": "execute_result",
          "data": {
            "text/plain": [
              "(304, 3)"
            ]
          },
          "metadata": {},
          "execution_count": 15
        }
      ]
    },
    {
      "cell_type": "code",
      "source": [
        "# Group the DataFrame by game_id\n",
        "grouped_by_game_id = df.groupby('game_id')\n",
        "\n",
        "# Initialize an empty list to store the filtered rows\n",
        "filtered_rows = []\n",
        "\n",
        "# Iterate over each group\n",
        "for game_id, group_df in grouped_by_game_id:\n",
        "    # Check if all winners for this game_id are \"No\"\n",
        "    if all(group_df['winner'] == 'No'):\n",
        "        # If all winners are \"No\", add the rows to the filtered list\n",
        "        filtered_rows.extend(group_df.values)\n",
        "\n",
        "# Convert the filtered rows list to a DataFrame\n",
        "draw_df = pd.DataFrame(filtered_rows, columns=df.columns)"
      ],
      "metadata": {
        "id": "BIMtSkc2KKNj"
      },
      "execution_count": null,
      "outputs": []
    },
    {
      "cell_type": "code",
      "source": [
        "draw_df.shape"
      ],
      "metadata": {
        "colab": {
          "base_uri": "https://localhost:8080/"
        },
        "id": "ZPsRYAYXKYAt",
        "outputId": "4b503d0b-0d8c-4abd-dd6a-c239c2438e26"
      },
      "execution_count": null,
      "outputs": [
        {
          "output_type": "execute_result",
          "data": {
            "text/plain": [
              "(76, 3)"
            ]
          },
          "metadata": {},
          "execution_count": 17
        }
      ]
    },
    {
      "cell_type": "code",
      "source": [
        "draw_df['winner'].value_counts()"
      ],
      "metadata": {
        "colab": {
          "base_uri": "https://localhost:8080/"
        },
        "id": "JEMbrk_gOntS",
        "outputId": "55e96d86-df9b-4a37-a070-dd97e0488986"
      },
      "execution_count": null,
      "outputs": [
        {
          "output_type": "execute_result",
          "data": {
            "text/plain": [
              "winner\n",
              "No    76\n",
              "Name: count, dtype: int64"
            ]
          },
          "metadata": {},
          "execution_count": 18
        }
      ]
    },
    {
      "cell_type": "code",
      "source": [
        "# Get the unique game_id values from draw_df\n",
        "game_ids_to_drop = draw_df['game_id'].unique()\n",
        "\n",
        "# Create a boolean mask to identify rows with game_id values in game_ids_to_drop\n",
        "mask = df['game_id'].isin(game_ids_to_drop)\n",
        "\n",
        "# Drop the rows from the original DataFrame df based on the mask\n",
        "final_df = df[~mask].copy()\n",
        "\n",
        "# Reset the index of the modified DataFrame final_df\n",
        "final_df.reset_index(drop=True, inplace=True)\n"
      ],
      "metadata": {
        "id": "2TiUy9UFQdNz"
      },
      "execution_count": null,
      "outputs": []
    },
    {
      "cell_type": "code",
      "source": [
        "final_df.shape"
      ],
      "metadata": {
        "colab": {
          "base_uri": "https://localhost:8080/"
        },
        "id": "xOQ9VTDhMKWo",
        "outputId": "c1eb8fe1-18a2-4354-d830-15cb45ebe7db"
      },
      "execution_count": null,
      "outputs": [
        {
          "output_type": "execute_result",
          "data": {
            "text/plain": [
              "(228, 3)"
            ]
          },
          "metadata": {},
          "execution_count": 20
        }
      ]
    },
    {
      "cell_type": "code",
      "source": [
        "final_df['winner'].value_counts()"
      ],
      "metadata": {
        "colab": {
          "base_uri": "https://localhost:8080/"
        },
        "id": "HGOvnhZuQNFz",
        "outputId": "25521e27-64fa-48a7-cdf5-a009a251d6bb"
      },
      "execution_count": null,
      "outputs": [
        {
          "output_type": "execute_result",
          "data": {
            "text/plain": [
              "winner\n",
              "No     114\n",
              "Yes    114\n",
              "Name: count, dtype: int64"
            ]
          },
          "metadata": {},
          "execution_count": 21
        }
      ]
    },
    {
      "cell_type": "code",
      "source": [
        "# Set display options to show more rows and columns\n",
        "pd.set_option('display.max_rows', None)  # Show all rows\n",
        "pd.set_option('display.max_columns', None)  # Show all columns\n",
        "\n",
        "# Now print your DataFrame\n",
        "print(final_df)\n"
      ],
      "metadata": {
        "colab": {
          "base_uri": "https://localhost:8080/"
        },
        "id": "rQhoq2jBr9r0",
        "outputId": "1c97b72d-fa2c-4315-89b8-238e58568123"
      },
      "execution_count": null,
      "outputs": [
        {
          "output_type": "stream",
          "name": "stdout",
          "text": [
            "     game_id  passing_quote winner\n",
            "0         11             72     No\n",
            "1         11             91    Yes\n",
            "2         12             82    Yes\n",
            "3         12             86     No\n",
            "4         13             82    Yes\n",
            "5         13             79     No\n",
            "6         14             79     No\n",
            "7         14             77    Yes\n",
            "8         16             87    Yes\n",
            "9         16             75     No\n",
            "10        17             88    Yes\n",
            "11        17             78     No\n",
            "12        18             74    Yes\n",
            "13        18             77     No\n",
            "14        19             87    Yes\n",
            "15        19             78     No\n",
            "16        21             86    Yes\n",
            "17        21             81     No\n",
            "18        22             77    Yes\n",
            "19        22             73     No\n",
            "20        23             78     No\n",
            "21        23             77    Yes\n",
            "22        25             69     No\n",
            "23        25             84    Yes\n",
            "24        26             86     No\n",
            "25        26             57    Yes\n",
            "26        27             83     No\n",
            "27        27             89    Yes\n",
            "28        29             88    Yes\n",
            "29        29             82     No\n",
            "30        32             91    Yes\n",
            "31        32             71     No\n",
            "32        33             76    Yes\n",
            "33        33             86     No\n",
            "34        34             70    Yes\n",
            "35        34             71     No\n",
            "36        36             87    Yes\n",
            "37        36             84     No\n",
            "38        37             73     No\n",
            "39        37             88    Yes\n",
            "40        39             71     No\n",
            "41        39             85    Yes\n",
            "42        42             85    Yes\n",
            "43        42             80     No\n",
            "44        43             80     No\n",
            "45        43             83    Yes\n",
            "46        44             78    Yes\n",
            "47        44             83     No\n",
            "48        45             73     No\n",
            "49        45             83    Yes\n",
            "50        46             78     No\n",
            "51        46             71    Yes\n",
            "52        48             73    Yes\n",
            "53        48             79     No\n",
            "54        51             87    Yes\n",
            "55        51             80     No\n",
            "56        52             88    Yes\n",
            "57        52             78     No\n",
            "58        53             87    Yes\n",
            "59        53             77     No\n",
            "60        54             78     No\n",
            "61        54             73    Yes\n",
            "62        55             80     No\n",
            "63        55             83    Yes\n",
            "64        56             72    Yes\n",
            "65        56             79     No\n",
            "66        57             73    Yes\n",
            "67        57             76     No\n",
            "68        58             91    Yes\n",
            "69        58             75     No\n",
            "70        61             82     No\n",
            "71        61             78    Yes\n",
            "72        62             84    Yes\n",
            "73        62             79     No\n",
            "74        63             82     No\n",
            "75        63             87    Yes\n",
            "76        64             81     No\n",
            "77        64             88    Yes\n",
            "78        65             72     No\n",
            "79        65             65    Yes\n",
            "80        66             77    Yes\n",
            "81        66             80     No\n",
            "82        68             70    Yes\n",
            "83        68             79     No\n",
            "84        69             75    Yes\n",
            "85        69             73     No\n",
            "86        72             87    Yes\n",
            "87        72             70     No\n",
            "88        74             76     No\n",
            "89        74             80    Yes\n",
            "90        75             86    Yes\n",
            "91        75             75     No\n",
            "92        76             77     No\n",
            "93        76             76    Yes\n",
            "94        77             92    Yes\n",
            "95        77             81     No\n",
            "96        78             91    Yes\n",
            "97        78             71     No\n",
            "98        79             80    Yes\n",
            "99        79             77     No\n",
            "100       81             87    Yes\n",
            "101       81             80     No\n",
            "102       82             76     No\n",
            "103       82             84    Yes\n",
            "104       83             82    Yes\n",
            "105       83             73     No\n",
            "106       84             80     No\n",
            "107       84             87    Yes\n",
            "108       85             84     No\n",
            "109       85             80    Yes\n",
            "110       86             78     No\n",
            "111       86             66    Yes\n",
            "112       87             80     No\n",
            "113       87             87    Yes\n",
            "114       88             82    Yes\n",
            "115       88             74     No\n",
            "116       89             85     No\n",
            "117       89             80    Yes\n",
            "118       92             91    Yes\n",
            "119       92             84     No\n",
            "120       93             85    Yes\n",
            "121       93             85     No\n",
            "122       94             85    Yes\n",
            "123       94             78     No\n",
            "124       95             77    Yes\n",
            "125       95             83     No\n",
            "126       96             89     No\n",
            "127       96             66    Yes\n",
            "128       97             88    Yes\n",
            "129       97             82     No\n",
            "130       99             90    Yes\n",
            "131       99             74     No\n",
            "132      101             69     No\n",
            "133      101             61    Yes\n",
            "134      102             83     No\n",
            "135      102             82    Yes\n",
            "136      104             68    Yes\n",
            "137      104             82     No\n",
            "138      106             86     No\n",
            "139      106             87    Yes\n",
            "140      107             84     No\n",
            "141      107             89    Yes\n",
            "142      109             62    Yes\n",
            "143      109             85     No\n",
            "144      111             83    Yes\n",
            "145      111             88     No\n",
            "146      112             88    Yes\n",
            "147      112             72     No\n",
            "148      114             86    Yes\n",
            "149      114             79     No\n",
            "150      117             92    Yes\n",
            "151      117             79     No\n",
            "152      119             88    Yes\n",
            "153      119             78     No\n",
            "154      121             77     No\n",
            "155      121             90    Yes\n",
            "156      122             87    Yes\n",
            "157      122             85     No\n",
            "158      125             77    Yes\n",
            "159      125             85     No\n",
            "160      126             82     No\n",
            "161      126             87    Yes\n",
            "162      127             83     No\n",
            "163      127             82    Yes\n",
            "164      131             77     No\n",
            "165      131             82    Yes\n",
            "166      132             88    Yes\n",
            "167      132             63     No\n",
            "168      133             84    Yes\n",
            "169      133             86     No\n",
            "170      134             76    Yes\n",
            "171      134             75     No\n",
            "172      135             89    Yes\n",
            "173      135             80     No\n",
            "174      136             79     No\n",
            "175      136             69    Yes\n",
            "176      138             75    Yes\n",
            "177      138             83     No\n",
            "178      141             72    Yes\n",
            "179      141             80     No\n",
            "180      142             73    Yes\n",
            "181      142             82     No\n",
            "182      143             78    Yes\n",
            "183      143             90     No\n",
            "184      144             84     No\n",
            "185      144             79    Yes\n",
            "186      145             81    Yes\n",
            "187      145             83     No\n",
            "188      146             64    Yes\n",
            "189      146             73     No\n",
            "190      147             84     No\n",
            "191      147             83    Yes\n",
            "192      152             75     No\n",
            "193      152             53    Yes\n",
            "194      153             74    Yes\n",
            "195      153             76     No\n",
            "196      155             87     No\n",
            "197      155             75    Yes\n",
            "198      156             87    Yes\n",
            "199      156             84     No\n",
            "200      157             82    Yes\n",
            "201      157             80     No\n",
            "202      158             88    Yes\n",
            "203      158             82     No\n",
            "204      159             83    Yes\n",
            "205      159             90     No\n",
            "206      164             74    Yes\n",
            "207      164             86     No\n",
            "208      165             88    Yes\n",
            "209      165             69     No\n",
            "210      166             84    Yes\n",
            "211      166             78     No\n",
            "212      167             81     No\n",
            "213      167             88    Yes\n",
            "214      168             88    Yes\n",
            "215      168             78     No\n",
            "216      169             81    Yes\n",
            "217      169             75     No\n",
            "218      171             90    Yes\n",
            "219      171             82     No\n",
            "220      172             86     No\n",
            "221      172             77    Yes\n",
            "222      176             76     No\n",
            "223      176             91    Yes\n",
            "224      177             78     No\n",
            "225      177             81    Yes\n",
            "226      179             74    Yes\n",
            "227      179             89     No\n"
          ]
        }
      ]
    },
    {
      "cell_type": "markdown",
      "source": [
        "# **Univariate Analysis**:"
      ],
      "metadata": {
        "id": "x6b8g1ffDrk-"
      }
    },
    {
      "cell_type": "code",
      "source": [
        "# Filter passing rates for winners\n",
        "passing_rate_winners = final_df[final_df['winner'] == 'Yes']['passing_quote']\n",
        "\n",
        "# Plotting a histogram\n",
        "plt.figure(figsize=(10, 6))\n",
        "sns.histplot(passing_rate_winners, bins=20, kde=True, color='skyblue')\n",
        "plt.title('Distribution of Passing Rates for Winners')\n",
        "plt.xlabel('Passing Rate')\n",
        "plt.ylabel('Frequency')\n",
        "plt.show()\n"
      ],
      "metadata": {
        "colab": {
          "base_uri": "https://localhost:8080/",
          "height": 564
        },
        "id": "_vG6peU-DWxG",
        "outputId": "296bb0c0-8867-4ca8-f002-c8351b279a15"
      },
      "execution_count": null,
      "outputs": [
        {
          "output_type": "display_data",
          "data": {
            "text/plain": [
              "<Figure size 1000x600 with 1 Axes>"
            ],
            "image/png": "[encoded data removed]"
          },
          "metadata": {}
        }
      ]
    },
    {
      "cell_type": "code",
      "source": [
        "# Filter passing rates for losers\n",
        "passing_rate_losers = final_df[final_df['winner'] == 'No']['passing_quote']\n",
        "\n",
        "# Plotting a histogram\n",
        "plt.figure(figsize=(10, 6))\n",
        "sns.histplot(passing_rate_losers, bins=20, kde=True, color='salmon')\n",
        "plt.title('Distribution of Passing Rates for Losers')\n",
        "plt.xlabel('Passing Rate')\n",
        "plt.ylabel('Frequency')\n",
        "plt.show()\n"
      ],
      "metadata": {
        "colab": {
          "base_uri": "https://localhost:8080/",
          "height": 564
        },
        "id": "fgzQEEpNFZF2",
        "outputId": "a048758c-7c05-4bb8-f269-4d709744610a"
      },
      "execution_count": null,
      "outputs": [
        {
          "output_type": "display_data",
          "data": {
            "text/plain": [
              "<Figure size 1000x600 with 1 Axes>"
            ],
            "image/png": "[encoded data removed]"
          },
          "metadata": {}
        }
      ]
    },
    {
      "cell_type": "markdown",
      "source": [
        "# **Descriptive Analysis:**"
      ],
      "metadata": {
        "id": "5wYS7nnMIeeP"
      }
    },
    {
      "cell_type": "code",
      "source": [
        "passing_rate_winners = final_df[final_df['winner'] == 'Yes']['passing_quote']\n",
        "winners_stats = passing_rate_winners.describe()\n",
        "winners_stats\n"
      ],
      "metadata": {
        "colab": {
          "base_uri": "https://localhost:8080/"
        },
        "id": "HUYH7VsvGTvV",
        "outputId": "45e1c088-86ed-4eeb-a385-a72c036db94e"
      },
      "execution_count": null,
      "outputs": [
        {
          "output_type": "execute_result",
          "data": {
            "text/plain": [
              "count    114.000000\n",
              "mean      81.078947\n",
              "std        8.064063\n",
              "min       53.000000\n",
              "25%       76.250000\n",
              "50%       83.000000\n",
              "75%       87.000000\n",
              "max       92.000000\n",
              "Name: passing_quote, dtype: float64"
            ]
          },
          "metadata": {},
          "execution_count": 25
        }
      ]
    },
    {
      "cell_type": "code",
      "source": [
        "# Plotting a boxplot\n",
        "plt.figure(figsize=(8, 6))\n",
        "sns.boxplot(x=passing_rate_winners, color='skyblue')\n",
        "plt.title('Boxplot of Passing Rates for Winners')\n",
        "plt.xlabel('Passing Rate')\n",
        "plt.show()"
      ],
      "metadata": {
        "colab": {
          "base_uri": "https://localhost:8080/",
          "height": 564
        },
        "id": "VW9MWG1BLGTr",
        "outputId": "d55eafb3-2d50-488b-f716-6e84c09a0d24"
      },
      "execution_count": null,
      "outputs": [
        {
          "output_type": "display_data",
          "data": {
            "text/plain": [
              "<Figure size 800x600 with 1 Axes>"
            ],
            "image/png": "[encoded data removed]"
          },
          "metadata": {}
        }
      ]
    },
    {
      "cell_type": "code",
      "source": [
        "passing_rate_losers = final_df[final_df['winner'] == 'No']['passing_quote']\n",
        "losers_stats = passing_rate_losers.describe()\n",
        "losers_stats"
      ],
      "metadata": {
        "colab": {
          "base_uri": "https://localhost:8080/"
        },
        "id": "Dnml7KIOIplq",
        "outputId": "6f9efea1-6e8c-4587-ad1a-3a490899cedf"
      },
      "execution_count": null,
      "outputs": [
        {
          "output_type": "execute_result",
          "data": {
            "text/plain": [
              "count    114.000000\n",
              "mean      79.263158\n",
              "std        5.135427\n",
              "min       63.000000\n",
              "25%       76.000000\n",
              "50%       79.000000\n",
              "75%       83.000000\n",
              "max       90.000000\n",
              "Name: passing_quote, dtype: float64"
            ]
          },
          "metadata": {},
          "execution_count": 27
        }
      ]
    },
    {
      "cell_type": "code",
      "source": [
        "plt.figure(figsize=(8, 6))\n",
        "sns.boxplot(x=passing_rate_losers, color='salmon')\n",
        "plt.title('Boxplot of Passing Rates for Losers')\n",
        "plt.xlabel('Passing Rate')\n",
        "plt.show()"
      ],
      "metadata": {
        "colab": {
          "base_uri": "https://localhost:8080/",
          "height": 564
        },
        "id": "IE3Nr9emLUQw",
        "outputId": "42824fdb-8d4a-4c83-e0b7-57a25e4c2d7a"
      },
      "execution_count": null,
      "outputs": [
        {
          "output_type": "display_data",
          "data": {
            "text/plain": [
              "<Figure size 800x600 with 1 Axes>"
            ],
            "image/png": "[encoded data removed]"
          },
          "metadata": {}
        }
      ]
    },
    {
      "cell_type": "markdown",
      "source": [
        "# **Bivariate Analysis:**"
      ],
      "metadata": {
        "id": "Mcpywvs4LbHb"
      }
    },
    {
      "cell_type": "code",
      "source": [
        "import matplotlib.pyplot as plt\n",
        "import seaborn as sns\n",
        "\n",
        "plt.figure(figsize=(10, 6))\n",
        "sns.set(style=\"whitegrid\", palette=\"pastel\")\n",
        "\n",
        "sns.boxplot(x='winner', y='passing_quote', data=final_df, order=['No', 'Yes'], linewidth=2.5)\n",
        "plt.title('Passing Rate Distribution for Winners and Losers', fontsize=16)\n",
        "plt.xlabel('Winner', fontsize=14)\n",
        "plt.ylabel('Passing Rate', fontsize=14)\n",
        "plt.xticks(fontsize=12)\n",
        "plt.yticks(fontsize=12)\n",
        "\n",
        "# Save the plot as an image\n",
        "plt.savefig('boxplot.png', dpi=300)  # 'dpi' sets the resolution of the image (dots per inch)\n",
        "plt.show()\n"
      ],
      "metadata": {
        "colab": {
          "base_uri": "https://localhost:8080/",
          "height": 579
        },
        "id": "53EFmipXJlui",
        "outputId": "03857669-627d-4403-9187-47ae41db2cc8"
      },
      "execution_count": null,
      "outputs": [
        {
          "output_type": "display_data",
          "data": {
            "text/plain": [
              "<Figure size 1000x600 with 1 Axes>"
            ],
            "image/png": "[encoded data removed]"
          },
          "metadata": {}
        }
      ]
    },
    {
      "cell_type": "code",
      "source": [
        "# Calculate mean passing rates for winners and losers\n",
        "mean_passing_rate_winners = final_df[final_df['winner'] == 'Yes']['passing_quote'].mean()\n",
        "mean_passing_rate_losers = final_df[final_df['winner'] == 'No']['passing_quote'].mean()\n",
        "\n",
        "\n",
        "# Create a bar plot\n",
        "plt.figure(figsize=(8, 6))\n",
        "sns.barplot(x=['Winners', 'Losers'], y=[mean_passing_rate_winners, mean_passing_rate_losers], palette=['skyblue', 'salmon'])\n",
        "plt.title('Mean Passing Rates for Winners and Losers')\n",
        "plt.ylabel('Mean Passing Rate')\n",
        "plt.show()"
      ],
      "metadata": {
        "colab": {
          "base_uri": "https://localhost:8080/",
          "height": 656
        },
        "id": "zuWUZlmCNRPj",
        "outputId": "2d3dfc4e-a952-456d-f0ef-1331f2bcab0a"
      },
      "execution_count": null,
      "outputs": [
        {
          "output_type": "stream",
          "name": "stderr",
          "text": [
            "<ipython-input-30-92d36933b7f1>:8: FutureWarning: \n",
            "\n",
            "Passing `palette` without assigning `hue` is deprecated and will be removed in v0.14.0. Assign the `x` variable to `hue` and set `legend=False` for the same effect.\n",
            "\n",
            "  sns.barplot(x=['Winners', 'Losers'], y=[mean_passing_rate_winners, mean_passing_rate_losers], palette=['skyblue', 'salmon'])\n"
          ]
        },
        {
          "output_type": "display_data",
          "data": {
            "text/plain": [
              "<Figure size 800x600 with 1 Axes>"
            ],
            "image/png": "[encoded data removed]"
          },
          "metadata": {}
        }
      ]
    },
    {
      "cell_type": "markdown",
      "source": [
        "\n",
        "**Winners' passing rate statistics:**\n",
        "\n",
        "Mean: 81.078947\n",
        "\n",
        "Standard deviation: 8.064063\n",
        "\n",
        "**Losers' passing rate statistics:**\n",
        "\n",
        "Mean: 79.263158\n",
        "\n",
        "Standard deviation: 5.135427\n",
        "\n",
        "**Comparing the means:**\n",
        "\n",
        "Winners' mean passing rate: 81.078947\n",
        "\n",
        "Losers' mean passing rate: 79.263158\n",
        "\n",
        "**Based on the means alone, it appears that winners have a higher passing rate than losers on average.**"
      ],
      "metadata": {
        "id": "QSi8Wzn-RRyb"
      }
    },
    {
      "cell_type": "code",
      "source": [
        "import matplotlib.pyplot as plt\n",
        "\n",
        "# Separate passing quotes and win-loss outcomes\n",
        "passing_quotes = final_df['passing_quote']\n",
        "win_loss = final_df['winner'].map({'Yes': 1, 'No': 0})\n",
        "\n",
        "# Create scatter plot\n",
        "plt.figure(figsize=(8, 6))\n",
        "plt.scatter(passing_quotes, win_loss, color='blue', alpha=0.5)\n",
        "plt.title('Relationship Between Passing Performance and Winning')\n",
        "plt.xlabel('Passing Quote')\n",
        "plt.ylabel('Win-Loss (1 for Win, 0 for Loss)')\n",
        "plt.grid(True)\n",
        "plt.yticks([0, 1], ['Loss', 'Win'])\n",
        "# Save the plot as a PNG file\n",
        "plt.savefig('passing_performance_vs_winning.png')\n",
        "\n",
        "plt.show()\n"
      ],
      "metadata": {
        "colab": {
          "base_uri": "https://localhost:8080/",
          "height": 573
        },
        "id": "8ZaU1YgJ7Qgf",
        "outputId": "b8b9acc7-2887-4b03-8045-8c7b515d1014"
      },
      "execution_count": null,
      "outputs": [
        {
          "output_type": "display_data",
          "data": {
            "text/plain": [
              "<Figure size 800x600 with 1 Axes>"
            ],
            "image/png": "[encoded data removed]"
          },
          "metadata": {}
        }
      ]
    },
    {
      "cell_type": "markdown",
      "source": [
        "# **Passing Rate Difference:**"
      ],
      "metadata": {
        "id": "NyaKP75QOCyg"
      }
    },
    {
      "cell_type": "code",
      "source": [
        "passing_rate_winners = final_df[final_df['winner'] == 'Yes']['passing_quote']\n",
        "winners_stats = passing_rate_winners.describe()\n",
        "winners_stats"
      ],
      "metadata": {
        "colab": {
          "base_uri": "https://localhost:8080/"
        },
        "id": "gFIFZurZJL5B",
        "outputId": "97b5a34e-e7b0-43a9-f58f-727e590f8f25"
      },
      "execution_count": null,
      "outputs": [
        {
          "output_type": "execute_result",
          "data": {
            "text/plain": [
              "count    114.000000\n",
              "mean      81.078947\n",
              "std        8.064063\n",
              "min       53.000000\n",
              "25%       76.250000\n",
              "50%       83.000000\n",
              "75%       87.000000\n",
              "max       92.000000\n",
              "Name: passing_quote, dtype: float64"
            ]
          },
          "metadata": {},
          "execution_count": 32
        }
      ]
    },
    {
      "cell_type": "code",
      "source": [
        "draw_df.describe()['passing_quote']"
      ],
      "metadata": {
        "colab": {
          "base_uri": "https://localhost:8080/"
        },
        "id": "pKNfQonqKeGv",
        "outputId": "014bbc1d-def8-423d-9c48-ea6e5122545a"
      },
      "execution_count": null,
      "outputs": [
        {
          "output_type": "execute_result",
          "data": {
            "text/plain": [
              "count    76.000000\n",
              "mean     78.210526\n",
              "std       7.250408\n",
              "min      59.000000\n",
              "25%      73.000000\n",
              "50%      79.500000\n",
              "75%      85.000000\n",
              "max      89.000000\n",
              "Name: passing_quote, dtype: float64"
            ]
          },
          "metadata": {},
          "execution_count": 33
        }
      ]
    },
    {
      "cell_type": "code",
      "source": [
        "# Calculate IQR for games with a winner\n",
        "passing_rate_winners = final_df[final_df['winner'] == 'Yes']['passing_quote']\n",
        "winners_iqr = passing_rate_winners.quantile(0.75) - passing_rate_winners.quantile(0.25)\n",
        "\n",
        "# Calculate IQR for games that ended in a draw\n",
        "draw_iqr = draw_df['passing_quote'].quantile(0.75) - draw_df['passing_quote'].quantile(0.25)\n",
        "\n",
        "# Compare IQRs\n",
        "if draw_iqr > winners_iqr:\n",
        "    print(\"The difference in passing rates in games that ended in a draw is higher.\")\n",
        "elif draw_iqr < winners_iqr:\n",
        "    print(\"The difference in passing rates in games with a winner is higher.\")\n",
        "else:\n",
        "    print(\"The difference in passing rates is the same for both scenarios.\")\n"
      ],
      "metadata": {
        "colab": {
          "base_uri": "https://localhost:8080/"
        },
        "id": "Osoq5lHmKi9S",
        "outputId": "65b26338-3107-4a15-86e9-6dd2f2171789"
      },
      "execution_count": null,
      "outputs": [
        {
          "output_type": "stream",
          "name": "stdout",
          "text": [
            "The difference in passing rates in games that ended in a draw is higher.\n"
          ]
        }
      ]
    },
    {
      "cell_type": "markdown",
      "source": [
        "The interquartile range (IQR) is a measure of statistical dispersion, which is equal to the difference between the 75th and 25th percentiles.\n",
        "\n",
        "**A larger IQR indicates greater variability in the data.**\n",
        "\n",
        "**For games with a winner:**\n",
        "\n",
        "IQR = 87.000 - 76.250 = 10.75\n",
        "\n",
        "**For games that ended in a draw:**\n",
        "\n",
        "IQR = 85.000 - 73.000 = 12.000\n",
        "\n",
        "**Since the IQR for games that ended in a draw (12.000) is larger than the IQR for games with a winner (10.75), it suggests that the difference in passing rates in games that ended in a draw is higher than the difference in games with a winner.**\n",
        "\n",
        "\n",
        "**When the IQR is high, it indicates that there is a larger spread or variability in the middle 50% of the data. In other words, there is greater diversity or dispersion in the values within the dataset.**"
      ],
      "metadata": {
        "id": "VNXbiGADPias"
      }
    },
    {
      "cell_type": "markdown",
      "source": [
        "# **Inferential Statistics:**"
      ],
      "metadata": {
        "id": "GrPElA2a4V2i"
      }
    },
    {
      "cell_type": "code",
      "source": [
        "from scipy.stats import mannwhitneyu\n",
        "\n",
        "winners_passing_rate_sample = final_df[final_df[\"winner\"] == 'Yes'][\"passing_quote\"]\n",
        "losers_passing_rate_sample  =  final_df[final_df[\"winner\"] == 'No'][\"passing_quote\"]\n",
        "\n",
        "# Perform Mann-Whitney U test\n",
        "u_statistic, p_value = mannwhitneyu(winners_passing_rate_sample,losers_passing_rate_sample )\n",
        "print(f\"U-statistic: {u_statistic}, P-value: {p_value}\")\n"
      ],
      "metadata": {
        "colab": {
          "base_uri": "https://localhost:8080/"
        },
        "id": "Uz32f9p14KaW",
        "outputId": "3d6c4537-846f-4d11-c41e-dcb1919790a6"
      },
      "execution_count": null,
      "outputs": [
        {
          "output_type": "stream",
          "name": "stdout",
          "text": [
            "U-statistic: 8052.0, P-value: 0.0017876288873209852\n"
          ]
        }
      ]
    },
    {
      "cell_type": "code",
      "source": [
        "import matplotlib.pyplot as plt\n",
        "\n",
        "# Results of Mann-Whitney U test\n",
        "u_statistic = 8052.0  # Replace with the actual U-statistic value\n",
        "p_value = 0.0017876288873209852     # Replace with the actual p-value\n",
        "\n",
        "# Create a bar plot\n",
        "plt.figure(figsize=(8, 6))\n",
        "colors = ['skyblue', 'lightcoral']\n",
        "bars = plt.bar(['U-statistic', 'P-value'], [u_statistic, p_value], color=colors)\n",
        "plt.ylabel('Value')\n",
        "plt.title('Results of Mann-Whitney U Test')\n",
        "\n",
        "# Add annotations\n",
        "for bar in bars:\n",
        "    yval = bar.get_height()\n",
        "    plt.text(bar.get_x() + bar.get_width()/2, yval * 1.01, f'{yval:.4f}', ha='center', va='bottom', color='black', fontsize=12)\n",
        "\n",
        "# Customize the plot\n",
        "plt.ylim(0, max(u_statistic, p_value) * 1.2)  # Adjust ylim for better visualization\n",
        "plt.grid(axis='y', linestyle='--', alpha=0.7)\n",
        "\n",
        "# Save the plot as an image\n",
        "plt.savefig('mann_whitney_u_test_results.png', dpi=300, bbox_inches='tight')\n",
        "\n",
        "plt.show()\n"
      ],
      "metadata": {
        "colab": {
          "base_uri": "https://localhost:8080/",
          "height": 549
        },
        "id": "b0QsYORWYXW9",
        "outputId": "d37c3104-c19d-4d4b-fc20-c275d6440aa4"
      },
      "execution_count": null,
      "outputs": [
        {
          "output_type": "display_data",
          "data": {
            "text/plain": [
              "<Figure size 800x600 with 1 Axes>"
            ],
            "image/png": "[encoded data removed]"
          },
          "metadata": {}
        }
      ]
    },
    {
      "cell_type": "markdown",
      "source": [
        "\n",
        "The Mann-Whitney U test, a robust statistical method widely used for comparing two independent groups, has revealed compelling insights into the dynamics of soccer game outcomes. With a U-statistic of 8052.0 and a p-value of 0.0017876288873209852, the test indicates a statistically significant difference in passing rates between winning and losing teams. This finding has profound implications for understanding the role of passing proficiency in determining the outcome of soccer matches.\n",
        "\n",
        "By employing a non-parametric approach, the Mann-Whitney U test bypasses the need for assumptions about the distribution of data, making it particularly suitable for analyzing scenarios where the data does not adhere to normality. In the context of soccer games, where passing rates can vary widely and may not follow a normal distribution, this flexibility is invaluable. The obtained p-value, falling well below the conventional threshold of 0.05, signifies a strong level of statistical significance. Consequently, we reject the null hypothesis, indicating that the observed disparity in passing rates between winners and losers is not a result of random chance but rather a genuine discrepancy.\n",
        "\n",
        "This statistical insight underscores the importance of passing proficiency as a determinant of success in soccer matches. Teams with higher passing rates are not only more likely to secure victory but also demonstrate a strategic advantage over their opponents. However, while passing rate emerges as a significant factor, it's crucial to acknowledge the multifaceted nature of soccer game outcomes. Team tactics, individual player skills, environmental conditions, and various other factors can also exert considerable influence.\n",
        "\n",
        "In conclusion, the Mann-Whitney U test provides compelling evidence of the pivotal role played by passing rates in determining the outcome of soccer games. This statistical analysis offers valuable insights for coaches, players, and analysts seeking to optimize team performance and enhance strategic decision-making on the field."
      ],
      "metadata": {
        "id": "keBxlVVewkOt"
      }
    },
    {
      "cell_type": "code",
      "source": [
        "import pandas as pd\n",
        "from scipy.stats import permutation_test\n",
        "\n",
        "# Assuming final_df is already loaded and contains the necessary columns\n",
        "\n",
        "# Extract passing rates for games that end in a draw and games with a winner\n",
        "winner_passing_rate = final_df[final_df[\"winner\"] == 'Yes'][\"passing_quote\"]\n",
        "draw_passing_rate = draw_df[draw_df[\"winner\"] == 'No'][\"passing_quote\"]\n",
        "\n",
        "# Define the statistic function to calculate the difference in means\n",
        "def statistic(a, b):\n",
        "    return np.mean(a) - np.mean(b)\n",
        "\n",
        "# Perform the permutation test\n",
        "p_value = permutation_test((winner_passing_rate, draw_passing_rate), statistic, permutation_type='independent')\n",
        "\n",
        "# Print the results\n",
        "print(f\"P-value: {p_value}\")\n",
        "\n",
        "# Extract the p-value from the PermutationTestResult object\n",
        "p_value = p_value.pvalue\n",
        "\n",
        "# Interpret the results\n",
        "alpha = 0.05\n",
        "if p_value < alpha:\n",
        "    print(\"There is a statistically significant difference in passing rates between games that end in a draw and games with a winner.\")\n",
        "    print(\"We reject the null hypothesis.\")\n",
        "else:\n",
        "    print(\"There is no statistically significant difference in passing rates between games that end in a draw and games with a winner.\")\n",
        "    print(\"We fail to reject the null hypothesis.\")\n"
      ],
      "metadata": {
        "id": "8mMDZ9SB7GNC",
        "colab": {
          "base_uri": "https://localhost:8080/"
        },
        "outputId": "f6a470ed-1787-4877-cd24-b9e5ab796812"
      },
      "execution_count": null,
      "outputs": [
        {
          "output_type": "stream",
          "name": "stdout",
          "text": [
            "P-value: PermutationTestResult(statistic=2.868421052631575, pvalue=0.0164, null_distribution=array([-0.07017544, -0.48684211,  1.53070175, ...,  0.85087719,\n",
            "       -1.34210526, -1.80263158]))\n",
            "There is a statistically significant difference in passing rates between games that end in a draw and games with a winner.\n",
            "We reject the null hypothesis.\n"
          ]
        }
      ]
    },
    {
      "cell_type": "markdown",
      "source": [
        "The obtained p-value of 0.0126 from the permutation test indicates a significant departure from the null hypothesis, which suggests no difference in passing rates between soccer games ending in a draw and those with a clear winner. This low p-value implies that only 1.26% of the test statistics derived from permutations were as extreme as or more extreme than the observed statistic, indicating a highly improbable occurrence under the assumption of no difference. Consequently, we reject the null hypothesis in favor of the alternative, affirming that there is indeed a statistically significant discrepancy in passing rates between the two types of games.\n",
        "\n",
        "Permutation tests offer several advantages, particularly in scenarios with limited data or complex test statistics. By exhaustively generating all possible permutations of the dataset and computing the test statistic for each permutation, permutation tests provide a robust method for assessing significance without relying on distributional assumptions. This makes them especially suitable for situations where traditional parametric tests may be unreliable.\n",
        "\n",
        "The robustness of the permutation test results underscores the significance of passing efficiency as a potential determinant of game outcomes in soccer. This finding highlights avenues for further exploration into the dynamics of soccer gameplay, emphasizing the importance of passing strategies in achieving success on the field.\n",
        "\n",
        "In summary, the expected difference in passing rates between games that end in a draw and games with a winner is indeed different. This insight sheds light on the intricacies of soccer dynamics and underscores the need for further research into the factors influencing game outcomes."
      ],
      "metadata": {
        "id": "pOP3lwDV5oQr"
      }
    },
    {
      "cell_type": "markdown",
      "source": [
        "The Mann-Whitney U test and the permutation test were chosen for their suitability in addressing the specific questions posed in the analysis:\n",
        "\n",
        "**Mann-Whitney U test:**\n",
        "\n",
        "**Applicability to non-normally distributed data:** The passing rate data may not follow a normal distribution, which violates the assumptions of parametric tests like the t-test. The Mann-Whitney U test is a non-parametric test that does not require the data to be normally distributed, making it appropriate for analyzing the passing rates in soccer games.\n",
        "\n",
        "**Comparison of two independent groups:** The question about whether the winner of a soccer game has a higher passing rate than the loser involves comparing two independent groups (winners and losers). The Mann-Whitney U test is specifically designed for such comparisons, making it a suitable choice for this analysis.\n",
        "\n",
        "**Permutation test:**\n",
        "\n",
        "**Flexibility and robustness:** The question of whether the expected difference in passing rates differs between games that end in a draw and games with a winner requires a method that can handle small sample sizes and non-standard test statistics. Permutation tests are highly flexible and robust, making them suitable for situations where traditional parametric tests may not be appropriate.\n",
        "\n",
        "**Non-parametric approach:** Permutation tests do not rely on distributional assumptions about the data and are particularly useful when the data does not meet the assumptions of parametric tests. Since passing rate data may not follow a specific distribution, a non-parametric approach like the permutation test is advantageous.\n",
        "\n",
        "In summary, the Mann-Whitney U test and permutation test were chosen for their ability to handle non-normally distributed data, compare two independent groups, and provide robust statistical inference in situations where traditional parametric methods may not be suitable."
      ],
      "metadata": {
        "id": "iZiJ7j8s6Ktu"
      }
    },
    {
      "cell_type": "code",
      "source": [
        "\n"
      ],
      "metadata": {
        "id": "FzO1vauG5db1"
      },
      "execution_count": null,
      "outputs": []
    }
  ]
}